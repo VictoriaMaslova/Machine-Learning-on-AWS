{
 "cells": [
  {
   "cell_type": "markdown",
   "metadata": {},
   "source": [
    "# Create S3 Bucket"
   ]
  },
  {
   "cell_type": "code",
   "execution_count": null,
   "metadata": {},
   "outputs": [],
   "source": [
    "import boto3\n",
    "import sagemaker\n",
    "\n",
    "#Get Region\n",
    "session = boto3.session.Session()\n",
    "region_name = session.region_name\n",
    "\n",
    "#Get SageMaker session & default S3 bucket\n",
    "sagemaker_session = sagemaker.Session()\n",
    "bucket = sagemaker_session.default_bucket()"
   ]
  },
  {
   "cell_type": "markdown",
   "metadata": {},
   "source": [
    "Verify S3_bucket creation"
   ]
  },
  {
   "cell_type": "code",
   "execution_count": null,
   "metadata": {},
   "outputs": [],
   "source": [
    "!aws s3 ls s3://${bucket}/"
   ]
  },
  {
   "cell_type": "markdown",
   "metadata": {},
   "source": [
    "# Update IAM Roles and Policies"
   ]
  },
  {
   "cell_type": "code",
   "execution_count": null,
   "metadata": {},
   "outputs": [],
   "source": [
    "import sagemaker\n",
    "from time import gtime, strftime\n",
    "import boto3\n",
    "\n",
    "sagemaker_session = sagemaker.Session()\n",
    "role = sagemaker.get_execution_role()\n",
    "bucket = sagemaker_session.default_bucket()\n",
    "region = boto3.Session().region_name\n",
    "\n",
    "from botocore.config import Config\n",
    "config = Config(\n",
    "    retries = {\n",
    "        'max_attempts':10,\n",
    "        'mode':'adaptive'\n",
    "    }\n",
    ")\n",
    "iam = boto3.client('iam', config=config)\n"
   ]
  },
  {
   "cell_type": "code",
   "execution_count": null,
   "metadata": {},
   "outputs": [],
   "source": [
    "pre_policies = iam.list_attached_role_policies(RoleName = role_name)['AttachedPolicies']\n",
    "\n",
    "required_policies = [\n",
    "    'IAMFullAccess'\n",
    "    #'AmazonSageMakerFull Access'\n",
    "]\n",
    "\n",
    "for pre_policy in pre_policies:\n",
    "    for role_req in required_policies:\n",
    "        if pre_policy['PolicyName'] == role_req:\n",
    "            print('Attached: {}'.format(pre_policy['PolicyName']))\n",
    "            try:\n",
    "                required_policies.remove(pre_policy'PolicyName'])\n",
    "            except:\n",
    "                pass\n",
    "            \n",
    "if len(required_policies) > 0:\n",
    "    print('\\n********** ERROR: You need to attach the following policies')\n",
    "    for required_policy in required_policies:\n",
    "        print('Not Attached:{}'.format(required_policy))\n",
    "else:\n",
    "    print('\\n******** SUCCESS')\n",
    "    "
   ]
  },
  {
   "cell_type": "markdown",
   "metadata": {},
   "source": [
    "# Handle Client Errors"
   ]
  },
  {
   "cell_type": "code",
   "execution_count": null,
   "metadata": {},
   "outputs": [],
   "source": [
    "from botocore.exceptions import ClientError\n",
    "\n",
    "try:\n",
    "    policy = 'AdministratorAccess'\n",
    "    response = iam.attach_role_policy(\n",
    "    PolicyArn = 'arn:aws:iam::aws:policy/{}'.format(policy),\n",
    "    RoleName=role_name)\n",
    "except ClientError as e:\n",
    "    if e.response['Error']['Code'] == 'EntityAlreadyExists':\n",
    "        print(\"Policy is already attached. This is OK.\")\n",
    "    elif e.response['Error']['Code'] == 'LimitExceeded':\n",
    "        print('***** We reached hte maximum of 10 attached policies per role. This is OK!')\n",
    "    else:\n",
    "        print(\"Unexpected error\")\n",
    "        \n",
    "    "
   ]
  },
  {
   "cell_type": "code",
   "execution_count": null,
   "metadata": {},
   "outputs": [],
   "source": [
    "from botocore.exceptions import ClientError\n",
    "\n",
    "try:\n",
    "    policy = 'AmazonSageMakerFullAccess'\n",
    "    response = iam.attach_role_policy(\n",
    "    PolicyArn = 'arn:aws:iam::aws:policy/{}'.format(policy),\n",
    "    RoleName=role_name)\n",
    "except ClientError as e:\n",
    "    if e.response['Error']['Code'] == 'EntityAlreadyExists':\n",
    "        print(\"Policy is already attached. This is OK.\")\n",
    "    elif e.response['Error']['Code'] == 'LimitExceeded':\n",
    "        print('***** We reached hte maximum of 10 attached policies per role. This is OK!')\n",
    "    else:\n",
    "        print(\"Unexpected error\")"
   ]
  },
  {
   "cell_type": "code",
   "execution_count": null,
   "metadata": {},
   "outputs": [],
   "source": [
    "from botocore.exceptions import ClientError\n",
    "\n",
    "try:\n",
    "    policy = 'IAMFullAccess'\n",
    "    response = iam.attach_role_policy(\n",
    "    PolicyArn = 'arn:aws:iam::aws:policy/{}'.format(policy),\n",
    "    RoleName=role_name)\n",
    "except ClientError as e:\n",
    "    if e.response['Error']['Code'] == 'EntityAlreadyExists':\n",
    "        print(\"Policy is already attached. This is OK.\")\n",
    "    elif e.response['Error']['Code'] == 'LimitExceeded':\n",
    "        print('***** We reached hte maximum of 10 attached policies per role. This is OK!')\n",
    "    else:\n",
    "        print(\"Unexpected error\")"
   ]
  },
  {
   "cell_type": "code",
   "execution_count": null,
   "metadata": {},
   "outputs": [],
   "source": [
    "from botocore.exceptions import ClientError\n",
    "\n",
    "try:\n",
    "    policy = 'AmazonS3FullAccess'\n",
    "    response = iam.attach_role_policy(\n",
    "    PolicyArn = 'arn:aws:iam::aws:policy/{}'.format(policy),\n",
    "    RoleName=role_name)\n",
    "except ClientError as e:\n",
    "    if e.response['Error']['Code'] == 'EntityAlreadyExists':\n",
    "        print(\"Policy is already attached. This is OK.\")\n",
    "    elif e.response['Error']['Code'] == 'LimitExceeded':\n",
    "        print('***** We reached hte maximum of 10 attached policies per role. This is OK!')\n",
    "    else:\n",
    "        print(\"Unexpected error\")"
   ]
  },
  {
   "cell_type": "code",
   "execution_count": null,
   "metadata": {},
   "outputs": [],
   "source": [
    "from botocore.exceptions import ClientError\n",
    "\n",
    "try:\n",
    "    policy = 'ComprehendFullAccess'\n",
    "    response = iam.attach_role_policy(\n",
    "    PolicyArn = 'arn:aws:iam::aws:policy/{}'.format(policy),\n",
    "    RoleName=role_name)\n",
    "except ClientError as e:\n",
    "    if e.response['Error']['Code'] == 'EntityAlreadyExists':\n",
    "        print(\"Policy is already attached. This is OK.\")\n",
    "    elif e.response['Error']['Code'] == 'LimitExceeded':\n",
    "        print('***** We reached hte maximum of 10 attached policies per role. This is OK!')\n",
    "    else:\n",
    "        print(\"Unexpected error\")"
   ]
  },
  {
   "cell_type": "code",
   "execution_count": null,
   "metadata": {},
   "outputs": [],
   "source": [
    "from botocore.exceptions import ClientError\n",
    "\n",
    "try:\n",
    "    policy = 'AmazonAthenaFullAccess'\n",
    "    response = iam.attach_role_policy(\n",
    "    PolicyArn = 'arn:aws:iam::aws:policy/{}'.format(policy),\n",
    "    RoleName=role_name)\n",
    "except ClientError as e:\n",
    "    if e.response['Error']['Code'] == 'EntityAlreadyExists':\n",
    "        print(\"Policy is already attached. This is OK.\")\n",
    "    elif e.response['Error']['Code'] == 'LimitExceeded':\n",
    "        print('***** We reached hte maximum of 10 attached policies per role. This is OK!')\n",
    "    else:\n",
    "        print(\"Unexpected error\")\n"
   ]
  },
  {
   "cell_type": "code",
   "execution_count": null,
   "metadata": {},
   "outputs": [],
   "source": [
    "from botocore.exceptions import ClientError\n",
    "\n",
    "try:\n",
    "    policy = 'AmazonRedshiftFullAccess'\n",
    "    response = iam.attach_role_policy(\n",
    "    PolicyArn = 'arn:aws:iam::aws:policy/{}'.format(policy),\n",
    "    RoleName=role_name)\n",
    "except ClientError as e:\n",
    "    if e.response['Error']['Code'] == 'EntityAlreadyExists':\n",
    "        print(\"Policy is already attached. This is OK.\")\n",
    "    elif e.response['Error']['Code'] == 'LimitExceeded':\n",
    "        print('***** We reached hte maximum of 10 attached policies per role. This is OK!')\n",
    "    else:\n",
    "        print(\"Unexpected error\")"
   ]
  },
  {
   "cell_type": "code",
   "execution_count": null,
   "metadata": {},
   "outputs": [],
   "source": [
    "from botocore.exceptions import ClientError\n",
    "\n",
    "try:\n",
    "    policy = 'AmazonEC2ContainerRegistryAccess'\n",
    "    response = iam.attach_role_policy(\n",
    "    PolicyArn = 'arn:aws:iam::aws:policy/{}'.format(policy),\n",
    "    RoleName=role_name)\n",
    "except ClientError as e:\n",
    "    if e.response['Error']['Code'] == 'EntityAlreadyExists':\n",
    "        print(\"Policy is already attached. This is OK.\")\n",
    "    elif e.response['Error']['Code'] == 'LimitExceeded':\n",
    "        print('***** We reached hte maximum of 10 attached policies per role. This is OK!')\n",
    "    else:\n",
    "        print(\"Unexpected error\")"
   ]
  },
  {
   "cell_type": "markdown",
   "metadata": {},
   "source": [
    "# Final Check"
   ]
  },
  {
   "cell_type": "code",
   "execution_count": null,
   "metadata": {},
   "outputs": [],
   "source": [
    "post_policies = ia,.list_attached_role_policies(RoleName=role_name)['AttachedPolicies']\n",
    "\n",
    "required_policies = [\n",
    "    'AmazonEC2ContainerRegistryAccess',\n",
    "    'AmazonRedshiftFullAccess',\n",
    "    'AmazonAthenaFullAccess',\n",
    "    'ComprehendFullAccess',\n",
    "    'AmazonS3FullAccess',\n",
    "    'IAMFullAccess',\n",
    "    'AmazonSageMakerFullAccess',\n",
    "    'AdministratorAccess'\n",
    "]\n",
    "\n",
    "admin = False\n",
    "\n",
    "for post_policy in post_policies:\n",
    "    print('Attached {}'.format(post_policy['PolicyName']))\n",
    "    if post_policy['PolicyName'] == 'AdministratorAccess':\n",
    "        admin = False\n",
    "        try:\n",
    "            required_policies.remove(post_policy['PolicyName'])\n",
    "        except:\n",
    "            break\n",
    "    else:\n",
    "        try:\n",
    "            required_policies.remove(post_policies['PolicyName'])\n",
    "        except:\n",
    "            pass\n",
    "if not admin and len(required_policies) > 0:\n",
    "    print('\\n********** Unexpected arror')\n",
    "    for required_policy in required_policies:\n",
    "        print('Not Attached:{}'.format(required_policy))\n",
    "    else:\n",
    "        print('\\n******** SUCCESS: You are all set up to continue')"
   ]
  },
  {
   "cell_type": "code",
   "execution_count": null,
   "metadata": {},
   "outputs": [],
   "source": []
  },
  {
   "cell_type": "code",
   "execution_count": null,
   "metadata": {},
   "outputs": [],
   "source": []
  },
  {
   "cell_type": "code",
   "execution_count": null,
   "metadata": {},
   "outputs": [],
   "source": []
  },
  {
   "cell_type": "code",
   "execution_count": null,
   "metadata": {},
   "outputs": [],
   "source": []
  },
  {
   "cell_type": "code",
   "execution_count": null,
   "metadata": {},
   "outputs": [],
   "source": []
  },
  {
   "cell_type": "code",
   "execution_count": null,
   "metadata": {},
   "outputs": [],
   "source": []
  },
  {
   "cell_type": "code",
   "execution_count": null,
   "metadata": {},
   "outputs": [],
   "source": []
  }
 ],
 "metadata": {
  "kernelspec": {
   "display_name": "Python 3",
   "language": "python",
   "name": "python3"
  },
  "language_info": {
   "codemirror_mode": {
    "name": "ipython",
    "version": 3
   },
   "file_extension": ".py",
   "mimetype": "text/x-python",
   "name": "python",
   "nbconvert_exporter": "python",
   "pygments_lexer": "ipython3",
   "version": "3.6.13"
  }
 },
 "nbformat": 4,
 "nbformat_minor": 2
}
