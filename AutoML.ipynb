{
 "cells": [
  {
   "cell_type": "markdown",
   "id": "0963fa65",
   "metadata": {},
   "source": [
    "# Prepare Dataset for Model Training and Evaluating\n",
    "## Amazon Customer Reviews Dataset"
   ]
  },
  {
   "cell_type": "markdown",
   "id": "f000133d",
   "metadata": {},
   "source": [
    "\n",
    "Amazon Customer Reviews Dataset\n",
    "https://s3.amazonaws.com/amazon-reviews-pds/readme.html\n",
    "\n",
    "Over 130+ million customer reviews are available to researchers as part of this release. \n",
    "\n",
    "Schema\n",
    "\n",
    "* marketplace: 2-letter country code (in this case all \"US\").\n",
    "* customer_id: Random identifier that can be used to aggregate reviews written by a single author.\n",
    "* review_id: A unique ID for the review.\n",
    "* product_id: The Amazon Standard Identification Number (ASIN). \n",
    "* product_parent: The parent of that ASIN. Multiple ASINs (color or format variations of the same product) can roll up into a single parent.\n",
    "* product_title: Title description of the product.\n",
    "* product_category: Broad product category that can be used to group reviews (in this case digital videos).\n",
    "* star_rating: The review's rating (1 to 5 stars).\n",
    "* helpful_votes: Number of helpful votes for the review.\n",
    "* total_votes: Number of total votes the review received.\n",
    "* vine: Was the review written as part of the Vine program?\n",
    "* verified_purchase: Was the review from a verified purchase?\n",
    "* review_headline: The title of the review itself.\n",
    "* review_body: The text of the review.\n",
    "* review_date: The date the review was written."
   ]
  },
  {
   "cell_type": "code",
   "execution_count": null,
   "id": "863d3a0b",
   "metadata": {},
   "outputs": [],
   "source": [
    "import boto3\n",
    "import sagemaker\n",
    "import pandas as pd\n",
    "\n",
    "sess = sagemaker.Session()\n",
    "bucket = sess.default_bucket()\n",
    "role = sagemaker.get_execution_role()\n",
    "region = boto3.Session().region_name"
   ]
  },
  {
   "cell_type": "markdown",
   "id": "d287184c",
   "metadata": {},
   "source": [
    "## Download\n",
    "Let's start by retrieving a subset of the Amazon Customer Reviews dataset."
   ]
  },
  {
   "cell_type": "code",
   "execution_count": null,
   "id": "df6f7182",
   "metadata": {},
   "outputs": [],
   "source": [
    "!aws s3 cp 's3://amazon-reviews-pds/tsv/amazon_reviews_us_Digital_Software_v1_00.tsv.gz' ./data/"
   ]
  },
  {
   "cell_type": "code",
   "execution_count": null,
   "id": "efdeac77",
   "metadata": {},
   "outputs": [],
   "source": [
    "import csv\n",
    "\n",
    "df = pd.read_csv(\n",
    "    \"./data/amazon_reviews_us_Digital_Software_v1_00.tsv.gz\",\n",
    "    delimiter=\"\\t\",\n",
    "    quoting=csv.QUOTE_NONE,\n",
    "    compression=\"gzip\",\n",
    ")\n",
    "df.shape"
   ]
  },
  {
   "cell_type": "code",
   "execution_count": null,
   "id": "8b71e3fa",
   "metadata": {},
   "outputs": [],
   "source": [
    "import matplotlib.pyplot as plt\n",
    "\n",
    "%matplotlib inline\n",
    "%config InlineBackend.figure_format='retina'\n",
    "\n",
    "df[[\"star_rating\", \"review_id\"]].groupby(\"star_rating\").count().plot(kind=\"bar\", title=\"Breakdown by Star Rating\")\n",
    "plt.xlabel(\"Star Rating\")\n",
    "plt.ylabel(\"Review Count\")"
   ]
  },
  {
   "cell_type": "markdown",
   "id": "a52093d1",
   "metadata": {},
   "source": [
    "## Balance the Dataset"
   ]
  },
  {
   "cell_type": "code",
   "execution_count": null,
   "id": "6bef6c87",
   "metadata": {},
   "outputs": [],
   "source": [
    "print(\"Shape of dataframe before splitting {}\".format(df.shape))"
   ]
  },
  {
   "cell_type": "code",
   "execution_count": null,
   "id": "e5b5e0c4",
   "metadata": {},
   "outputs": [],
   "source": [
    "# Balance the dataset down to the minority class\n",
    "df_grouped_by = df.groupby([\"star_rating\"]) \n",
    "df_balanced = df_grouped_by.apply(lambda x: x.sample(df_grouped_by.size().min()).reset_index(drop=True))\n",
    "\n",
    "df_balanced = df_balanced.reset_index(drop=True)\n",
    "print(\"Shape of balanced dataframe {}\".format(df_balanced.shape))"
   ]
  },
  {
   "cell_type": "code",
   "execution_count": null,
   "id": "e02907ce",
   "metadata": {},
   "outputs": [],
   "source": [
    "df_balanced[[\"star_rating\", \"review_id\"]].groupby(\"star_rating\").count().plot(\n",
    "    kind=\"bar\", title=\"Breakdown by Star Rating\"\n",
    ")\n",
    "plt.xlabel(\"Star Rating\")\n",
    "plt.ylabel(\"Review Count\")"
   ]
  },
  {
   "cell_type": "markdown",
   "id": "406d2868",
   "metadata": {},
   "source": [
    "## Split the Data into Train, Validation, and Test Sets"
   ]
  },
  {
   "cell_type": "code",
   "execution_count": null,
   "id": "2aab73a1",
   "metadata": {},
   "outputs": [],
   "source": [
    "from sklearn.model_selection import train_test_split\n",
    "\n",
    "# Split all data into 90% train and 10% holdout\n",
    "df_train, df_holdout = train_test_split(df_balanced, test_size=0.10, stratify=df_balanced[\"star_rating\"])\n",
    "\n",
    "# Split holdout data into 50% validation and 50% test\n",
    "df_validation, df_test = train_test_split(df_holdout, test_size=0.50, stratify=df_holdout[\"star_rating\"])"
   ]
  },
  {
   "cell_type": "code",
   "execution_count": null,
   "id": "d3347a7b",
   "metadata": {},
   "outputs": [],
   "source": [
    "# Pie chart, where the slices will be ordered and plotted counter-clockwise:\n",
    "labels = [\"Train\", \"Validation\", \"Test\"]\n",
    "sizes = [len(df_train.index), len(df_validation.index), len(df_test.index)]\n",
    "explode = (0.1, 0, 0)\n",
    "\n",
    "fig1, ax1 = plt.subplots()\n",
    "\n",
    "ax1.pie(sizes, explode=explode, labels=labels, autopct=\"%1.1f%%\", startangle=90)\n",
    "\n",
    "# Equal aspect ratio ensures that pie is drawn as a circle.\n",
    "ax1.axis(\"equal\")\n",
    "\n",
    "plt.show()"
   ]
  },
  {
   "cell_type": "markdown",
   "id": "d988b30e",
   "metadata": {},
   "source": [
    "## Write a Train CSV with Header for Autopilot"
   ]
  },
  {
   "cell_type": "code",
   "execution_count": null,
   "id": "9929d58c",
   "metadata": {},
   "outputs": [],
   "source": [
    "autopilot_train_path = \"./amazon_reviews_us_Digital_Software_v1_00_autopilot.csv\"\n",
    "df_train.to_csv(autopilot_train_path, index=False, header=True)"
   ]
  },
  {
   "cell_type": "markdown",
   "id": "7414ef92",
   "metadata": {},
   "source": [
    "## Upload Train Data to S3 for Autopilot"
   ]
  },
  {
   "cell_type": "code",
   "execution_count": null,
   "id": "a9a13dff",
   "metadata": {},
   "outputs": [],
   "source": [
    "train_s3_prefix = \"data\"\n",
    "autopilot_train_s3_uri = sess.upload_data(path=autopilot_train_path, key_prefix=train_s3_prefix)\n",
    "autopilot_train_s3_uri"
   ]
  },
  {
   "cell_type": "code",
   "execution_count": null,
   "id": "431744e8",
   "metadata": {},
   "outputs": [],
   "source": [
    "!aws s3 ls $autopilot_train_s3_uri"
   ]
  },
  {
   "cell_type": "markdown",
   "id": "67d44735",
   "metadata": {},
   "source": [
    "## Write a CSV with no header for Amazon Comprehend"
   ]
  },
  {
   "cell_type": "code",
   "execution_count": null,
   "id": "7afe1895",
   "metadata": {},
   "outputs": [],
   "source": [
    "noheader_train_path = \"./amazon_reviews_us_Digital_Software_v1_00_noheader.csv\"\n",
    "df_train.to_csv(noheader_train_path, index=False, header=False)"
   ]
  },
  {
   "cell_type": "markdown",
   "id": "800fd43f",
   "metadata": {},
   "source": [
    "## Upload Train Data to S3 for Comprehend"
   ]
  },
  {
   "cell_type": "code",
   "execution_count": null,
   "id": "e3177c52",
   "metadata": {},
   "outputs": [],
   "source": [
    "train_s3_prefix = \"data\"\n",
    "noheader_train_path = sess.upload_data(path=noheader_train_path, key_prefix=train_s3_prefix)"
   ]
  },
  {
   "cell_type": "markdown",
   "id": "82d731f7",
   "metadata": {},
   "source": [
    "## Store Variables for Next Notebook(s)"
   ]
  },
  {
   "cell_type": "code",
   "execution_count": null,
   "id": "909c8c64",
   "metadata": {},
   "outputs": [],
   "source": [
    "%store autopilot_train_s3_uri"
   ]
  },
  {
   "cell_type": "code",
   "execution_count": null,
   "id": "841321e6",
   "metadata": {},
   "outputs": [],
   "source": [
    "%store noheader_train_s3_uri"
   ]
  },
  {
   "cell_type": "markdown",
   "id": "263012b4",
   "metadata": {},
   "source": [
    "# Train a Model with SageMaker Autopilot"
   ]
  },
  {
   "cell_type": "markdown",
   "id": "9718af34",
   "metadata": {},
   "source": [
    "I used Autopilot to predict the star rating of customer reviews. Autopilot implements a transparent approach to AutoML."
   ]
  },
  {
   "cell_type": "code",
   "execution_count": null,
   "id": "c29beccb",
   "metadata": {},
   "outputs": [],
   "source": [
    "import boto3\n",
    "import sagemaker\n",
    "import pandas as pd\n",
    "import json\n",
    "\n",
    "sess = sagemaker.Session()\n",
    "bucket = sess.default_bucket()\n",
    "role = sagemaker.get_execution_role()\n",
    "region = boto3.Session().region_name\n",
    "\n",
    "sm = boto3.Session().client(service_name=\"sagemaker\", region_name=region)"
   ]
  },
  {
   "cell_type": "markdown",
   "id": "3c1c7de1",
   "metadata": {},
   "source": [
    "## See prepared training data which I used as input for Autopilot"
   ]
  },
  {
   "cell_type": "code",
   "execution_count": null,
   "id": "fdf84657",
   "metadata": {},
   "outputs": [],
   "source": [
    "import csv\n",
    "\n",
    "df = pd.read_csv(\"./tmp/amazon_reviews_us_Digital_Software_v1_00_autopilot.csv\")\n",
    "df.head()"
   ]
  },
  {
   "cell_type": "markdown",
   "id": "f70455a7",
   "metadata": {},
   "source": [
    "## Setup the S3 Location for the Autopilot-Generated Assets"
   ]
  },
  {
   "cell_type": "markdown",
   "id": "bd5e83e3",
   "metadata": {},
   "source": [
    "This include Jupyter Notebooks (Analysis), Python Scripts (Feature Engineering), and Training Models."
   ]
  },
  {
   "cell_type": "code",
   "execution_count": null,
   "id": "ffd2784f",
   "metadata": {},
   "outputs": [],
   "source": [
    "prefix_model_output = \"models/autopilot\"\n",
    "\n",
    "model_output_s3_uri = \"s3://{}/{}\".format(bucket, prefix_model_output)\n",
    "\n",
    "print(model_output_s3_uri)"
   ]
  },
  {
   "cell_type": "markdown",
   "id": "5d5d3b10",
   "metadata": {},
   "source": [
    "### Configure Autopilot"
   ]
  },
  {
   "cell_type": "code",
   "execution_count": null,
   "id": "df2201e4",
   "metadata": {},
   "outputs": [],
   "source": [
    "max_candidates = 3\n",
    "\n",
    "job_config = {\n",
    "    \"CompletionCriteria\": {\n",
    "        \"MaxRuntimePerTrainingJobInSeconds\": 900,\n",
    "        \"MaxCandidates\": max_candidates,\n",
    "        \"MaxAutoMLJobRuntimeInSeconds\": 5400,\n",
    "    },\n",
    "}\n",
    "\n",
    "input_data_config = [\n",
    "    {\n",
    "        \"DataSource\": {\"S3DataSource\": {\"S3DataType\": \"S3Prefix\", \"S3Uri\": \"{}\".format(autopilot_train_s3_uri)}},\n",
    "        \"TargetAttributeName\": \"star_rating\",\n",
    "    }\n",
    "]\n",
    "\n",
    "output_data_config = {\"S3OutputPath\": \"{}\".format(model_output_s3_uri)}\n"
   ]
  },
  {
   "cell_type": "markdown",
   "id": "2e0f0228",
   "metadata": {},
   "source": [
    "## Launch the SageMaker Autopilot Job"
   ]
  },
  {
   "cell_type": "code",
   "execution_count": null,
   "id": "db478836",
   "metadata": {},
   "outputs": [],
   "source": [
    "from time import gmtime, strftime, sleep"
   ]
  },
  {
   "cell_type": "code",
   "execution_count": null,
   "id": "697800c6",
   "metadata": {},
   "outputs": [],
   "source": [
    "%store -r auto_ml_job_name\n",
    "\n",
    "try:\n",
    "    auto_ml_job_name\n",
    "except NameError:\n",
    "    timestamp_suffix = strftime(\"%d-%H-%M-%S\", gmtime())\n",
    "    auto_ml_job_name = \"automl-dm-\" + timestamp_suffix\n",
    "    print(\"Created AutoMLJobName: \" + auto_ml_job_name)"
   ]
  },
  {
   "cell_type": "code",
   "execution_count": null,
   "id": "4b0f1363",
   "metadata": {},
   "outputs": [],
   "source": [
    "%store auto_ml_job_name"
   ]
  },
  {
   "cell_type": "code",
   "execution_count": null,
   "id": "efe897ec",
   "metadata": {},
   "outputs": [],
   "source": [
    "max_running_jobs = 1\n",
    "\n",
    "if running_jobs < max_running_jobs:  # Limiting to max. 1 Jobs\n",
    "    try:\n",
    "        sm.create_auto_ml_job(\n",
    "            AutoMLJobName=auto_ml_job_name,\n",
    "            InputDataConfig=input_data_config,\n",
    "            OutputDataConfig=output_data_config,\n",
    "            AutoMLJobConfig=job_config,\n",
    "            RoleArn=role,\n",
    "        )\n",
    "        print(\"[OK] Autopilot Job {} created.\".format(auto_ml_job_name))\n",
    "        running_jobs = running_jobs + 1\n",
    "    except:\n",
    "        print(\n",
    "            \"[INFO] You have already launched an Autopilot job. Please continue see the output of this job.\".format(\n",
    "                running_jobs\n",
    "            )\n",
    "        )\n",
    "else:\n",
    "    print(\n",
    "        \"[INFO] You have already launched {} Autopilot running job(s). Please continue see the output of the running job.\".format(\n",
    "            running_jobs\n",
    "        )\n",
    "    )"
   ]
  },
  {
   "cell_type": "markdown",
   "id": "e3bfa64f",
   "metadata": {},
   "source": [
    "## Track the Progress of the Autopilot Job\n",
    "\n",
    "SageMaker Autopilot job consists of the following high-level steps:\n",
    "\n",
    "* Data Analysis where the data is summarized and analyzed to determine which feature engineering techniques, hyper-parameters, and models to explore.\n",
    "* Feature Engineering where the data is scrubbed, balanced, combined, and split into train and validation.\n",
    "* Model Training and Tuning where the top performing features, hyper-parameters, and models are selected and trained."
   ]
  },
  {
   "cell_type": "markdown",
   "id": "af572b74",
   "metadata": {},
   "source": [
    "## Analyzing Data and Generate Notebooks"
   ]
  },
  {
   "cell_type": "code",
   "execution_count": null,
   "id": "0553c8d2",
   "metadata": {},
   "outputs": [],
   "source": [
    "job_description_response = sm.describe_auto_ml_job(AutoMLJobName=auto_ml_job_name)\n",
    "\n",
    "while (\n",
    "    \"AutoMLJobStatus\" not in job_description_response.keys()\n",
    "    and \"AutoMLJobSecondaryStatus\" not in job_description_response.keys()\n",
    "):\n",
    "    job_description_response = sm.describe_auto_ml_job(AutoMLJobName=auto_ml_job_name)\n",
    "    print(\"[INFO] Autopilot Job has not yet started. Please wait. \")\n",
    "    print(json.dumps(job_description_response, indent=4, sort_keys=True, default=str))\n",
    "    print(\"[INFO] Waiting for Autopilot Job to start...\")\n",
    "    sleep(15)\n",
    "\n",
    "print(\"[OK] AutoMLJob started.\")"
   ]
  },
  {
   "cell_type": "markdown",
   "id": "247eb20e",
   "metadata": {},
   "source": [
    "## Review the SageMaker Processing Jobs\n",
    "\n",
    "* First Processing Job (Data Splitter) checks the data sanity, performs stratified shuffling and splits the data into training and validation.\n",
    "* Second Processing Job (Candidate Generator) first streams through the data to compute statistics for the dataset. Then, uses these statistics to identify the problem type, and possible types of every column-predictor: numeric, categorical, natural language, etc."
   ]
  },
  {
   "cell_type": "markdown",
   "id": "8178d6af",
   "metadata": {},
   "source": [
    "Once data analysis is complete, SageMaker AutoPilot generates two notebooks:\n",
    "\n",
    "* Data Exploration\n",
    "\n",
    "* Candidate Definition\n"
   ]
  },
  {
   "cell_type": "code",
   "execution_count": null,
   "id": "c06999d0",
   "metadata": {},
   "outputs": [],
   "source": [
    "job_description_response = sm.describe_auto_ml_job(AutoMLJobName=auto_ml_job_name)\n",
    "\n",
    "while \"AutoMLJobArtifacts\" not in job_description_response.keys():\n",
    "    job_description_response = sm.describe_auto_ml_job(AutoMLJobName=auto_ml_job_name)\n",
    "    print(\"[INFO] Autopilot Job has not yet generated the artifacts. Please wait. \")\n",
    "    print(json.dumps(job_description_response, indent=4, sort_keys=True, default=str))\n",
    "    print(\"[INFO] Waiting for AutoMLJobArtifacts...\")\n",
    "    sleep(15)\n",
    "\n",
    "print(\"[OK] AutoMLJobArtifacts generated.\")"
   ]
  },
  {
   "cell_type": "code",
   "execution_count": null,
   "id": "2b735a51",
   "metadata": {},
   "outputs": [],
   "source": [
    "job_description_response = sm.describe_auto_ml_job(AutoMLJobName=auto_ml_job_name)\n",
    "\n",
    "while \"DataExplorationNotebookLocation\" not in job_description_response[\"AutoMLJobArtifacts\"].keys():\n",
    "    job_description_response = sm.describe_auto_ml_job(AutoMLJobName=auto_ml_job_name)\n",
    "    print(\"[INFO] Autopilot Job has not yet generated the notebooks. Please wait. \")\n",
    "    print(json.dumps(job_description_response, indent=4, sort_keys=True, default=str))\n",
    "    print(\"[INFO] Waiting for DataExplorationNotebookLocation...\")\n",
    "    sleep(15)\n",
    "\n",
    "print(\"[OK] DataExplorationNotebookLocation found.\")"
   ]
  },
  {
   "cell_type": "code",
   "execution_count": null,
   "id": "46dd6d30",
   "metadata": {},
   "outputs": [],
   "source": [
    "generated_resources = job_description_response[\"AutoMLJobArtifacts\"][\"DataExplorationNotebookLocation\"]\n",
    "download_path = generated_resources.rsplit(\"/notebooks/SageMakerAutopilotDataExplorationNotebook.ipynb\")[0]\n",
    "job_id = download_path.rsplit(\"/\", 1)[-1]"
   ]
  },
  {
   "cell_type": "markdown",
   "id": "3f1b5f7e",
   "metadata": {},
   "source": [
    "## Feature Engineering\n",
    "\n",
    "Watch out for SageMaker Training Jobs and Batch Transform Jobs to start.\n",
    "\n",
    "* This is the candidate exploration phase.\n",
    "* Each python script code for data-processing is executed inside a SageMaker framework container as a training job, followed by transform job.\n",
    "\n",
    "Feature preprocessing part of each pipeline has all hyper parameters fixed, i.e. does not require tuning, thus feature preprocessing step can be done prior runing the hyper parameter optimization job.\n",
    "\n",
    "It outputs up to 10 variants of transformed data, therefore algorithms for each pipeline are set to use the respective transformed data."
   ]
  },
  {
   "cell_type": "code",
   "execution_count": null,
   "id": "24fb12c7",
   "metadata": {},
   "outputs": [],
   "source": [
    "%%time\n",
    "\n",
    "job_description_response = sm.describe_auto_ml_job(AutoMLJobName=auto_ml_job_name)\n",
    "job_status = job_description_response[\"AutoMLJobStatus\"]\n",
    "job_sec_status = job_description_response[\"AutoMLJobSecondaryStatus\"]\n",
    "print(job_status)\n",
    "print(job_sec_status)\n",
    "if job_status not in (\"Stopped\", \"Failed\"):\n",
    "    while job_status in (\"InProgress\") and job_sec_status in (\"FeatureEngineering\"):\n",
    "        job_description_response = sm.describe_auto_ml_job(AutoMLJobName=auto_ml_job_name)\n",
    "        job_status = job_description_response[\"AutoMLJobStatus\"]\n",
    "        job_sec_status = job_description_response[\"AutoMLJobSecondaryStatus\"]\n",
    "        print(job_status, job_sec_status)\n",
    "        sleep(15)\n",
    "    print(\"[OK] Feature engineering phase completed.\\n\")\n",
    "\n",
    "print(json.dumps(job_description_response, indent=4, sort_keys=True, default=str))"
   ]
  },
  {
   "cell_type": "markdown",
   "id": "4d6be268",
   "metadata": {},
   "source": [
    "## Model Training and Tuning\n",
    "\n",
    "Watch out for a SageMakerHyperparameter Tuning Job and various Training Jobs to start.\n",
    "\n",
    "* All algorithms are optimized using a SageMaker Hyperparameter Tuning job.\n",
    "* Up to 250 training jobs (based on number of candidates specified) are selectively executed to find the best candidate model."
   ]
  },
  {
   "cell_type": "code",
   "execution_count": null,
   "id": "fabc26fe",
   "metadata": {},
   "outputs": [],
   "source": [
    "%%time\n",
    "\n",
    "job_description_response = sm.describe_auto_ml_job(AutoMLJobName=auto_ml_job_name)\n",
    "job_status = job_description_response[\"AutoMLJobStatus\"]\n",
    "job_sec_status = job_description_response[\"AutoMLJobSecondaryStatus\"]\n",
    "print(job_status)\n",
    "print(job_sec_status)\n",
    "if job_status not in (\"Stopped\", \"Failed\"):\n",
    "    while job_status in (\"InProgress\") and job_sec_status in (\"ModelTuning\"):\n",
    "        job_description_response = sm.describe_auto_ml_job(AutoMLJobName=auto_ml_job_name)\n",
    "        job_status = job_description_response[\"AutoMLJobStatus\"]\n",
    "        job_sec_status = job_description_response[\"AutoMLJobSecondaryStatus\"]\n",
    "        print(job_status, job_sec_status)\n",
    "        sleep(15)\n",
    "    print(\"[OK] Model tuning phase completed.\\n\")\n",
    "\n",
    "print(json.dumps(job_description_response, indent=4, sort_keys=True, default=str))"
   ]
  },
  {
   "cell_type": "markdown",
   "id": "371285a6",
   "metadata": {},
   "source": [
    "### Viewing All Candidates\n",
    "Once model tuning is complete, you can view all the candidates (pipeline evaluations with different hyperparameter combinations) that were explored by AutoML and sort them by their final performance metric."
   ]
  },
  {
   "cell_type": "code",
   "execution_count": null,
   "id": "f96e14be",
   "metadata": {},
   "outputs": [],
   "source": [
    "candidates_response = sm.list_candidates_for_auto_ml_job(\n",
    "    AutoMLJobName=auto_ml_job_name, SortBy=\"FinalObjectiveMetricValue\"\n",
    ")"
   ]
  },
  {
   "cell_type": "markdown",
   "id": "67d01468",
   "metadata": {},
   "source": [
    "### Inspect Trials using Experiments API\n",
    "SageMaker Autopilot automatically creates a new experiment, and pushes information for each trial.\n"
   ]
  },
  {
   "cell_type": "code",
   "execution_count": null,
   "id": "f99a7ade",
   "metadata": {},
   "outputs": [],
   "source": [
    "from sagemaker.analytics import ExperimentAnalytics, TrainingJobAnalytics\n",
    "\n",
    "exp = ExperimentAnalytics(\n",
    "    sagemaker_session=sess,\n",
    "    experiment_name=auto_ml_job_name + \"-aws-auto-ml-job\",\n",
    ")\n",
    "\n",
    "df = exp.dataframe()\n",
    "print(df)"
   ]
  },
  {
   "cell_type": "markdown",
   "id": "6d836f06",
   "metadata": {},
   "source": [
    "### Explore the Best Candidate\n",
    "Now that we have successfully completed the AutoML job on our dataset and visualized the trials, we can create a model from any of the trials with a single API call and then deploy that model for online or batch prediction using Inference Pipelines. For this notebook, I deploy only the best performing trial for inference.\n",
    "\n",
    "The best candidate is the one we're really interested in."
   ]
  },
  {
   "cell_type": "code",
   "execution_count": null,
   "id": "fc961635",
   "metadata": {},
   "outputs": [],
   "source": [
    "best_candidate_response = sm.describe_auto_ml_job(AutoMLJobName=auto_ml_job_name)"
   ]
  },
  {
   "cell_type": "code",
   "execution_count": null,
   "id": "6e928bd6",
   "metadata": {},
   "outputs": [],
   "source": [
    "while \"BestCandidate\" not in best_candidate_response:\n",
    "    best_candidate_response = sm.describe_auto_ml_job(AutoMLJobName=auto_ml_job_name)\n",
    "    print(\"[INFO] Autopilot Job is generating BestCandidate. Please wait. \")\n",
    "    print(json.dumps(best_candidate_response, indent=4, sort_keys=True, default=str))\n",
    "    sleep(10)\n",
    "\n",
    "best_candidate = best_candidate_response[\"BestCandidate\"]\n",
    "print(\"[OK] BestCandidate generated.\")"
   ]
  },
  {
   "cell_type": "code",
   "execution_count": null,
   "id": "6cd2bd83",
   "metadata": {},
   "outputs": [],
   "source": [
    "print(json.dumps(best_candidate_response, indent=4, sort_keys=True, default=str))"
   ]
  },
  {
   "cell_type": "code",
   "execution_count": null,
   "id": "bee3d67c",
   "metadata": {},
   "outputs": [],
   "source": [
    "while \"CandidateName\" not in best_candidate:\n",
    "    best_candidate_response = sm.describe_auto_ml_job(AutoMLJobName=auto_ml_job_name)\n",
    "    best_candidate = best_candidate_response[\"BestCandidate\"]\n",
    "    print(\"[INFO] Autopilot Job is generating BestCandidate CandidateName. Please wait. \")\n",
    "    print(json.dumps(best_candidate, indent=4, sort_keys=True, default=str))\n",
    "    sleep(10)\n",
    "\n",
    "print(\"[OK] BestCandidate CandidateName generated.\")"
   ]
  },
  {
   "cell_type": "code",
   "execution_count": null,
   "id": "5daf9cac",
   "metadata": {},
   "outputs": [],
   "source": [
    "while \"FinalAutoMLJobObjectiveMetric\" not in best_candidate:\n",
    "    best_candidate_response = sm.describe_auto_ml_job(AutoMLJobName=auto_ml_job_name)\n",
    "    best_candidate = best_candidate_response[\"BestCandidate\"]\n",
    "    print(\"[INFO] Autopilot Job is generating BestCandidate FinalAutoMLJobObjectiveMetric. Please wait. \")\n",
    "    print(json.dumps(best_candidate, indent=4, sort_keys=True, default=str))\n",
    "    sleep(10)\n",
    "\n",
    "print(\"[OK] BestCandidate FinalAutoMLJobObjectiveMetric generated.\")"
   ]
  },
  {
   "cell_type": "code",
   "execution_count": null,
   "id": "3e8d34ce",
   "metadata": {},
   "outputs": [],
   "source": [
    "best_candidate_identifier = best_candidate[\"CandidateName\"]\n",
    "print(\"Candidate name: \" + best_candidate_identifier)\n",
    "print(\"Metric name: \" + best_candidate[\"FinalAutoMLJobObjectiveMetric\"][\"MetricName\"])\n",
    "print(\"Metric value: \" + str(best_candidate[\"FinalAutoMLJobObjectiveMetric\"][\"Value\"]))"
   ]
  },
  {
   "cell_type": "code",
   "execution_count": null,
   "id": "dc814952",
   "metadata": {},
   "outputs": [],
   "source": [
    "print(json.dumps(best_candidate, indent=4, sort_keys=True, default=str))"
   ]
  },
  {
   "cell_type": "markdown",
   "id": "8163ca1d",
   "metadata": {},
   "source": [
    "### Autopilot Chooses XGBoost as Best Candidate!\n",
    "Note that Autopilot chose different hyper-parameters and feature transformations than we used in our own XGBoost model."
   ]
  },
  {
   "cell_type": "markdown",
   "id": "8c81bfd7",
   "metadata": {},
   "source": [
    "### Deploy the Model as a REST Endpoint\n",
    "\n",
    "Batch transformations are also supported, but for now, we will use a REST Endpoint."
   ]
  },
  {
   "cell_type": "code",
   "execution_count": null,
   "id": "bd8913c2",
   "metadata": {},
   "outputs": [],
   "source": [
    "%store -r autopilot_model_name"
   ]
  },
  {
   "cell_type": "code",
   "execution_count": null,
   "id": "2e62bf09",
   "metadata": {},
   "outputs": [],
   "source": [
    "try:\n",
    "    autopilot_model_name\n",
    "except NameError:\n",
    "    timestamp_suffix = strftime(\"%d-%H-%M-%S\", gmtime())\n",
    "    autopilot_model_name = \"automl-dm-model-\" + timestamp_suffix\n",
    "    print(\"[OK] Created Autopilot Model Name: \" + autopilot_model_name)"
   ]
  },
  {
   "cell_type": "code",
   "execution_count": null,
   "id": "a7d405f1",
   "metadata": {},
   "outputs": [],
   "source": [
    "%store autopilot_model_name"
   ]
  },
  {
   "cell_type": "code",
   "execution_count": null,
   "id": "98261442",
   "metadata": {},
   "outputs": [],
   "source": [
    "%store -r autopilot_model_arn"
   ]
  },
  {
   "cell_type": "code",
   "execution_count": null,
   "id": "4bb83256",
   "metadata": {},
   "outputs": [],
   "source": [
    "try:\n",
    "    autopilot_model_arn\n",
    "except NameError:\n",
    "    create_model_response = sm.create_model(\n",
    "        Containers=best_candidate[\"InferenceContainers\"], ModelName=autopilot_model_name, ExecutionRoleArn=role\n",
    "    )\n",
    "    autopilot_model_arn = create_model_response[\"ModelArn\"]\n",
    "    print(\"[OK] Created Autopilot Model: {}\".format(autopilot_model_arn))"
   ]
  },
  {
   "cell_type": "code",
   "execution_count": null,
   "id": "36ff7cfb",
   "metadata": {},
   "outputs": [],
   "source": [
    "%store autopilot_model_arn"
   ]
  },
  {
   "cell_type": "markdown",
   "id": "3bef6a38",
   "metadata": {},
   "source": [
    "### Define EndpointConfig Name"
   ]
  },
  {
   "cell_type": "code",
   "execution_count": null,
   "id": "06468566",
   "metadata": {},
   "outputs": [],
   "source": [
    "timestamp_suffix = strftime(\"%d-%H-%M-%S\", gmtime())\n",
    "epc_name = \"automl-dm-epc-\" + timestamp_suffix\n",
    "\n",
    "print(epc_name)"
   ]
  },
  {
   "cell_type": "code",
   "execution_count": null,
   "id": "6017b772",
   "metadata": {},
   "outputs": [],
   "source": [
    "variant_name = \"automl-dm-variant-\" + timestamp_suffix\n",
    "print(\"[OK] Created Endpoint Variant Name {}: \".format(variant_name))"
   ]
  },
  {
   "cell_type": "code",
   "execution_count": null,
   "id": "5a68fc12",
   "metadata": {},
   "outputs": [],
   "source": [
    "%store autopilot_endpoint_name"
   ]
  },
  {
   "cell_type": "code",
   "execution_count": null,
   "id": "5144dc7e",
   "metadata": {},
   "outputs": [],
   "source": [
    "ep_config = sm.create_endpoint_config(\n",
    "    EndpointConfigName=epc_name,\n",
    "    ProductionVariants=[\n",
    "        {\n",
    "            \"InstanceType\": \"ml.m5.large\",\n",
    "            \"InitialInstanceCount\": 1,\n",
    "            \"ModelName\": autopilot_model_name,\n",
    "            \"VariantName\": variant_name,\n",
    "        }\n",
    "    ],\n",
    ")"
   ]
  },
  {
   "cell_type": "code",
   "execution_count": null,
   "id": "c9bb5184",
   "metadata": {},
   "outputs": [],
   "source": [
    "%store -r autopilot_endpoint_arn"
   ]
  },
  {
   "cell_type": "code",
   "execution_count": null,
   "id": "49ecba6d",
   "metadata": {},
   "outputs": [],
   "source": [
    "try:\n",
    "    autopilot_endpoint_arn\n",
    "except NameError:\n",
    "    create_endpoint_response = sm.create_endpoint(EndpointName=autopilot_endpoint_name, EndpointConfigName=epc_name)\n",
    "    autopilot_endpoint_arn = create_endpoint_response[\"EndpointArn\"]\n",
    "    print(autopilot_endpoint_arn)"
   ]
  },
  {
   "cell_type": "code",
   "execution_count": null,
   "id": "698627cb",
   "metadata": {},
   "outputs": [],
   "source": [
    "%store autopilot_endpoint_arn"
   ]
  },
  {
   "cell_type": "markdown",
   "id": "dc6a5f1d",
   "metadata": {},
   "source": [
    "### Wait for the Model to Deploy"
   ]
  },
  {
   "cell_type": "code",
   "execution_count": null,
   "id": "5886ffa9",
   "metadata": {},
   "outputs": [],
   "source": [
    "sm.get_waiter(\"endpoint_in_service\").wait(EndpointName=autopilot_endpoint_name)"
   ]
  },
  {
   "cell_type": "code",
   "execution_count": null,
   "id": "0c407527",
   "metadata": {},
   "outputs": [],
   "source": [
    "resp = sm.describe_endpoint(EndpointName=autopilot_endpoint_name)\n",
    "status = resp[\"EndpointStatus\"]\n",
    "\n",
    "print(\"Arn: \" + resp[\"EndpointArn\"])\n",
    "print(\"Status: \" + status)"
   ]
  },
  {
   "cell_type": "markdown",
   "id": "fc1d282e",
   "metadata": {},
   "source": [
    "### Test Our Model with Some Example Reviews\n",
    "Let's do some ad-hoc predictions on our model."
   ]
  },
  {
   "cell_type": "code",
   "execution_count": null,
   "id": "12cdd2dc",
   "metadata": {},
   "outputs": [],
   "source": [
    "sm_runtime = boto3.client(\"sagemaker-runtime\")"
   ]
  },
  {
   "cell_type": "code",
   "execution_count": null,
   "id": "f6260251",
   "metadata": {},
   "outputs": [],
   "source": [
    "csv_line_predict_positive = \"\"\"I loved it!\"\"\"\n",
    "\n",
    "response = sm_runtime.invoke_endpoint(\n",
    "    EndpointName=autopilot_endpoint_name, ContentType=\"text/csv\", Accept=\"text/csv\", Body=csv_line_predict_positive\n",
    ")\n",
    "\n",
    "response_body = response[\"Body\"].read().decode(\"utf-8\").strip()\n",
    "\n",
    "r = response_body.split(\",\")\n",
    "print(\"Predicated Star Rating Class: {} \\nProbability: {} \".format(r[0], r[1]))"
   ]
  },
  {
   "cell_type": "code",
   "execution_count": null,
   "id": "4aaa709a",
   "metadata": {},
   "outputs": [],
   "source": [
    "csv_line_predict_meh = \"\"\"It's OK.\"\"\"\n",
    "\n",
    "response = sm_runtime.invoke_endpoint(\n",
    "    EndpointName=autopilot_endpoint_name, ContentType=\"text/csv\", Accept=\"text/csv\", Body=csv_line_predict_meh\n",
    ")\n",
    "\n",
    "response_body = response[\"Body\"].read().decode(\"utf-8\").strip()\n",
    "\n",
    "r = response_body.split(\",\")\n",
    "print(\"Predicated Star Rating Class: {} \\nProbability: {} \".format(r[0], r[1]))"
   ]
  },
  {
   "cell_type": "code",
   "execution_count": null,
   "id": "e6b5fe25",
   "metadata": {},
   "outputs": [],
   "source": [
    "csv_line_predict_negative = \"\"\"It's pretty good.\"\"\"\n",
    "\n",
    "response = sm_runtime.invoke_endpoint(\n",
    "    EndpointName=autopilot_endpoint_name, ContentType=\"text/csv\", Accept=\"text/csv\", Body=csv_line_predict_negative\n",
    ")\n",
    "\n",
    "response_body = response[\"Body\"].read().decode(\"utf-8\").strip()\n",
    "\n",
    "r = response_body.split(\",\")\n",
    "print(\"Predicated Star Rating Class: {} \\nProbability: {} \".format(r[0], r[1]))\n"
   ]
  },
  {
   "cell_type": "code",
   "execution_count": null,
   "id": "234012df",
   "metadata": {},
   "outputs": [],
   "source": []
  },
  {
   "cell_type": "code",
   "execution_count": null,
   "id": "72abd7cb",
   "metadata": {},
   "outputs": [],
   "source": []
  },
  {
   "cell_type": "code",
   "execution_count": null,
   "id": "3fe7adf3",
   "metadata": {},
   "outputs": [],
   "source": []
  }
 ],
 "metadata": {
  "kernelspec": {
   "display_name": "Python 3",
   "language": "python",
   "name": "python3"
  },
  "language_info": {
   "codemirror_mode": {
    "name": "ipython",
    "version": 3
   },
   "file_extension": ".py",
   "mimetype": "text/x-python",
   "name": "python",
   "nbconvert_exporter": "python",
   "pygments_lexer": "ipython3",
   "version": "3.6.13"
  }
 },
 "nbformat": 4,
 "nbformat_minor": 5
}
